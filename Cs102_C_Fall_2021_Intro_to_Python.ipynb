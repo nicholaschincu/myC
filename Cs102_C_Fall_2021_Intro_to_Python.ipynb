{
  "nbformat": 4,
  "nbformat_minor": 0,
  "metadata": {
    "colab": {
      "name": "Cs102 C Fall 2021 - Intro to Python.ipynb",
      "provenance": [],
      "authorship_tag": "ABX9TyOm0efR3zaz7oH5tj/gNGCu",
      "include_colab_link": true
    },
    "kernelspec": {
      "name": "python3",
      "display_name": "Python 3"
    },
    "language_info": {
      "name": "python"
    }
  },
  "cells": [
    {
      "cell_type": "markdown",
      "metadata": {
        "id": "view-in-github",
        "colab_type": "text"
      },
      "source": [
        "<a href=\"https://colab.research.google.com/github/nicholaschincu/myC/blob/main/Cs102_C_Fall_2021_Intro_to_Python.ipynb\" target=\"_parent\"><img src=\"https://colab.research.google.com/assets/colab-badge.svg\" alt=\"Open In Colab\"/></a>"
      ]
    },
    {
      "cell_type": "code",
      "metadata": {
        "id": "x_eNh_JEDQrq"
      },
      "source": [
        ""
      ],
      "execution_count": null,
      "outputs": []
    },
    {
      "cell_type": "markdown",
      "metadata": {
        "id": "GSTJe3U6Dcci"
      },
      "source": [
        "Welcome to CS 102 Section C Fall 2021 Intro Python"
      ]
    },
    {
      "cell_type": "code",
      "metadata": {
        "colab": {
          "base_uri": "https://localhost:8080/"
        },
        "id": "NokzGBAgDnix",
        "outputId": "fde3803d-dcca-4808-c156-60df17e90ad4"
      },
      "source": [
        "counter = 1\n",
        "name = 'cs102c'\n",
        "\n",
        "print('{0} : counter = {1} {0}' .format(name, counter))"
      ],
      "execution_count": 3,
      "outputs": [
        {
          "output_type": "stream",
          "name": "stdout",
          "text": [
            "cs102c : counter = 1 cs102c\n"
          ]
        }
      ]
    },
    {
      "cell_type": "markdown",
      "metadata": {
        "id": "KMXpsSuTEnHZ"
      },
      "source": [
        "Let's do a for loop"
      ]
    },
    {
      "cell_type": "code",
      "metadata": {
        "colab": {
          "base_uri": "https://localhost:8080/"
        },
        "id": "Qje_zcjMEovG",
        "outputId": "e33cc3f5-7197-444a-e8dd-bb53e1768087"
      },
      "source": [
        "words = ['cat', 'window', 'defenestrate', 'mouse']\n",
        "print('Length of list is {}' .format(len(words)))\n",
        "for w in words:\n",
        "    print('word = {}'.format(w))\n",
        "print('Done')"
      ],
      "execution_count": 7,
      "outputs": [
        {
          "output_type": "stream",
          "name": "stdout",
          "text": [
            "Length of list is 4\n",
            "word = cat\n",
            "word = window\n",
            "word = defenestrate\n",
            "word = mouse\n",
            "Done\n"
          ]
        }
      ]
    },
    {
      "cell_type": "code",
      "metadata": {
        "colab": {
          "base_uri": "https://localhost:8080/"
        },
        "id": "pmb_GT1uKB0X",
        "outputId": "9346ba14-6476-4f6c-d883-612449728a67"
      },
      "source": [
        "for i in range(len(words)):\n",
        "    print(i, words[i])"
      ],
      "execution_count": 8,
      "outputs": [
        {
          "output_type": "stream",
          "name": "stdout",
          "text": [
            "0 cat\n",
            "1 window\n",
            "2 defenestrate\n",
            "3 mouse\n"
          ]
        }
      ]
    },
    {
      "cell_type": "markdown",
      "metadata": {
        "id": "BjMzHwmaKqcO"
      },
      "source": [
        "Try if statements"
      ]
    },
    {
      "cell_type": "code",
      "metadata": {
        "colab": {
          "base_uri": "https://localhost:8080/"
        },
        "id": "zHMdD3l6Ki48",
        "outputId": "75437285-e88f-405e-b7a8-f2526a36896b"
      },
      "source": [
        "x = True\n",
        "y = False\n",
        "\n",
        "if x is True:\n",
        "  print('x is {}'.format(x))\n",
        "else:\n",
        "  print('x is {}'.format(x))"
      ],
      "execution_count": 9,
      "outputs": [
        {
          "output_type": "stream",
          "name": "stdout",
          "text": [
            "x is True\n"
          ]
        }
      ]
    },
    {
      "cell_type": "markdown",
      "metadata": {
        "id": "mf2iqpyZLTc6"
      },
      "source": [
        "Elseif statements"
      ]
    },
    {
      "cell_type": "code",
      "metadata": {
        "colab": {
          "base_uri": "https://localhost:8080/"
        },
        "id": "o1pAM2wfLV30",
        "outputId": "9874d942-87cf-48e6-bf76-228f49a79297"
      },
      "source": [
        "x = not True\n",
        "y = False\n",
        "\n",
        "if x is True:\n",
        "  print('x is False')\n",
        "elif y is False:\n",
        "  print(\"x is True AND y is False\")\n",
        "else:\n",
        "  print('x is True')"
      ],
      "execution_count": 20,
      "outputs": [
        {
          "output_type": "stream",
          "name": "stdout",
          "text": [
            "x is True AND y is False\n"
          ]
        }
      ]
    },
    {
      "cell_type": "markdown",
      "metadata": {
        "id": "XYGLvFKCMOmx"
      },
      "source": [
        "Intro to Python Functions"
      ]
    },
    {
      "cell_type": "code",
      "metadata": {
        "colab": {
          "base_uri": "https://localhost:8080/"
        },
        "id": "w__mufIuMRQ8",
        "outputId": "821eef3d-df81-45c4-f68c-a34c340b8c5f"
      },
      "source": [
        "def calculate_mean(the_list):\n",
        "  print('type of the_list is {}'.format(type(the_list)))\n",
        "  the_sum = sum(the_list)\n",
        "  print('sum(the_list) = {}'.format(the_sum))\n",
        "  the_mean = the_sum / len(the_list)\n",
        "  return the_mean\n",
        "\n",
        "def calculate_median(the_list):\n",
        "  the_list.sort ()\n",
        "  list_length = len(my_list)\n",
        "  middle_index = int(list_length / 2);\n",
        "  print('middle_index = {}'.format(middle_index))\n",
        "  median_value = my_list[middle_index]\n",
        "  return median_value\n",
        "\n",
        "my_list = [6,1,5,2,7,3,9,4,8]\n",
        "median_value = calculate_median(my_list)\n",
        "print('median value of the list {} is {}'.format(my_list, median_value))\n",
        "my_list.sort()\n",
        "print(my_list)\n",
        "#print(sum(my_list)/len(my_list))\n",
        "mean = calculate_mean(my_list)\n",
        "print('mean = {}'.format(mean))"
      ],
      "execution_count": 33,
      "outputs": [
        {
          "output_type": "stream",
          "name": "stdout",
          "text": [
            "middle_index = 4\n",
            "median value of the list [1, 2, 3, 4, 5, 6, 7, 8, 9] is 5\n",
            "[1, 2, 3, 4, 5, 6, 7, 8, 9]\n",
            "type of the_list is <class 'list'>\n",
            "sum(the_list) = 45\n",
            "mean = 5.0\n"
          ]
        }
      ]
    }
  ]
}